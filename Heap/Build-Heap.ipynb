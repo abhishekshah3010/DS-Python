{
 "cells": [
  {
   "cell_type": "code",
   "execution_count": 1,
   "metadata": {},
   "outputs": [],
   "source": [
    "    def build_heap_top_down(a, n):\n",
    "        for i in range(2, n+1):\n",
    "            restore_up(i, a)\n",
    "            \n",
    "    def build_heap_bottom_up(a, n):\n",
    "        i = n//2\n",
    "        while i>=1:\n",
    "            restore_down(i, a, n)\n",
    "            i = i - 1\n",
    "        \n",
    "    def restore_up(i, a):\n",
    "        k = a[i]\n",
    "        iparent = i // 2\n",
    "        \n",
    "        while a[iparent] < k: # No sentinel - while(iparent>=1 && self.a[iparent]<k)\n",
    "            a[i] = a[iparent]\n",
    "            i = iparent\n",
    "            iparent = i // 2\n",
    "        a[i] = k\n",
    "        \n",
    "    def restore_down(i, a, n):\n",
    "        k = a[i]\n",
    "        lchild = 2*i\n",
    "        rchild = lchild + 1\n",
    "        \n",
    "        while rchild <= n:\n",
    "            if k>=a[lchild] and k>= a[rchild]:\n",
    "                a[i] = k\n",
    "                return\n",
    "            elif a[lchild] > a[rchild]:\n",
    "                a[i] = a[lchild]\n",
    "                i = lchild\n",
    "            else:\n",
    "                a[i] = a[rchild]\n",
    "                i = rchild\n",
    "            lchild = 2 * i\n",
    "            rchild = lchild + 1\n",
    "        \n",
    "        # If number of nodes is even\n",
    "        if lchild == n and k < a[lchild]:\n",
    "            a[i] = a[lchild]\n",
    "            i = lchild\n",
    "        a[i] = k"
   ]
  },
  {
   "cell_type": "code",
   "execution_count": 2,
   "metadata": {},
   "outputs": [
    {
     "name": "stdout",
     "output_type": "stream",
     "text": [
      "80  75  60  20  40  15  45  16  6  10  33  12  \n",
      "80  75  45  33  60  15  40  6  16  10  20  12  \n"
     ]
    }
   ],
   "source": [
    "a1 = [99999, 20, 33, 15, 6, 40, 60, 45, 16, 75, 10, 80, 12]\n",
    "n1 = len(a1) - 1\n",
    "\n",
    "build_heap_bottom_up(a1, n1)\n",
    "\n",
    "for i in range(1, n1+1):\n",
    "    print(a1[i], \" \", end='')\n",
    "print()\n",
    "\n",
    "a2 = [99999, 20, 33, 15, 6, 40, 60, 45, 16, 75, 10, 80, 12]\n",
    "n2 = len(a2) - 1\n",
    "\n",
    "build_heap_top_down(a2, n2)\n",
    "for i in range(1, n2+1):\n",
    "    print(a2[i], \" \", end='')\n",
    "print()"
   ]
  },
  {
   "cell_type": "code",
   "execution_count": null,
   "metadata": {},
   "outputs": [],
   "source": []
  }
 ],
 "metadata": {
  "kernelspec": {
   "display_name": "Python 3",
   "language": "python",
   "name": "python3"
  },
  "language_info": {
   "codemirror_mode": {
    "name": "ipython",
    "version": 3
   },
   "file_extension": ".py",
   "mimetype": "text/x-python",
   "name": "python",
   "nbconvert_exporter": "python",
   "pygments_lexer": "ipython3",
   "version": "3.8.3"
  }
 },
 "nbformat": 4,
 "nbformat_minor": 4
}
