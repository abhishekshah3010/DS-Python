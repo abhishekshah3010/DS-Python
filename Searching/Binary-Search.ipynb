{
 "cells": [
  {
   "cell_type": "code",
   "execution_count": 4,
   "metadata": {},
   "outputs": [],
   "source": [
    "def binary_search(a, n, searchvalue):\n",
    "    first = 0\n",
    "    last = n - 1\n",
    "    \n",
    "    while first <= last:\n",
    "        mid = (first + last) // 2\n",
    "        if searchvalue < a[mid]:\n",
    "            last = mid - 1 # Search in left half\n",
    "        elif searchvalue > a[mid]:\n",
    "            first = mid + 1 # Search in right half\n",
    "        else:\n",
    "            return mid # Search value present at index mid\n",
    "    return -1"
   ]
  },
  {
   "cell_type": "code",
   "execution_count": 6,
   "metadata": {},
   "outputs": [
    {
     "name": "stdout",
     "output_type": "stream",
     "text": [
      "Enter the number of elements: 6\n",
      "Enter the elements in sorted order - \n",
      "Enter element: 11\n",
      "Enter element: 22\n",
      "Enter element: 33\n",
      "Enter element: 44\n",
      "Enter element: 55\n",
      "Enter element: 66\n",
      "Enter the search value: 44\n",
      "Value 44 present at index 3\n"
     ]
    }
   ],
   "source": [
    "n = int(input(\"Enter the number of elements: \"))\n",
    "a = [None]*n\n",
    "print(\"Enter the elements in sorted order - \")\n",
    "for i in range(n):\n",
    "    a[i] = int(input(\"Enter element: \"))\n",
    "\n",
    "searchvalue = int(input(\"Enter the search value: \"))\n",
    "index = binary_search(a, n, searchvalue)\n",
    "\n",
    "if index == -1:\n",
    "    print(\"Value \", searchvalue, \"not present in the array\")\n",
    "else:\n",
    "    print(\"Value\", searchvalue, \"present at index\", index)"
   ]
  }
 ],
 "metadata": {
  "kernelspec": {
   "display_name": "Python 3",
   "language": "python",
   "name": "python3"
  },
  "language_info": {
   "codemirror_mode": {
    "name": "ipython",
    "version": 3
   },
   "file_extension": ".py",
   "mimetype": "text/x-python",
   "name": "python",
   "nbconvert_exporter": "python",
   "pygments_lexer": "ipython3",
   "version": "3.8.3"
  }
 },
 "nbformat": 4,
 "nbformat_minor": 4
}
