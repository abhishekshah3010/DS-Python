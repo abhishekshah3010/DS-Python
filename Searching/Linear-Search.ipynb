{
 "cells": [
  {
   "cell_type": "code",
   "execution_count": 1,
   "metadata": {},
   "outputs": [],
   "source": [
    "def search(a, n, searchvalue):\n",
    "    for i in range(n):\n",
    "        if a[i] == searchvalue:\n",
    "            return i\n",
    "    return -1"
   ]
  },
  {
   "cell_type": "code",
   "execution_count": 3,
   "metadata": {},
   "outputs": [
    {
     "name": "stdout",
     "output_type": "stream",
     "text": [
      "Enter the number of elements: 5\n",
      "Enter the elements - \n",
      "Enter element: 21\n",
      "Enter element: 33\n",
      "Enter element: 2\n",
      "Enter element: 12\n",
      "Enter element: 44\n",
      "Enter the search value: 12\n",
      "Value 12 present at index 3\n"
     ]
    }
   ],
   "source": [
    "n = int(input(\"Enter the number of elements: \"))\n",
    "a = [None]*n\n",
    "print(\"Enter the elements - \")\n",
    "for i in range(n):\n",
    "    a[i] = int(input(\"Enter element: \"))\n",
    "\n",
    "searchvalue = int(input(\"Enter the search value: \"))\n",
    "index = search(a, n, searchvalue)\n",
    "\n",
    "if index == -1:\n",
    "    print(\"Value \", searchvalue, \"not present in the list\")\n",
    "else:\n",
    "    print(\"Value\", searchvalue, \"present at index\", index)"
   ]
  }
 ],
 "metadata": {
  "kernelspec": {
   "display_name": "Python 3",
   "language": "python",
   "name": "python3"
  },
  "language_info": {
   "codemirror_mode": {
    "name": "ipython",
    "version": 3
   },
   "file_extension": ".py",
   "mimetype": "text/x-python",
   "name": "python",
   "nbconvert_exporter": "python",
   "pygments_lexer": "ipython3",
   "version": "3.8.3"
  }
 },
 "nbformat": 4,
 "nbformat_minor": 4
}
