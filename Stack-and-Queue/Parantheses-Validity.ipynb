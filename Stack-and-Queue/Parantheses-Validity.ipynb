{
 "cells": [
  {
   "cell_type": "code",
   "execution_count": 5,
   "metadata": {},
   "outputs": [],
   "source": [
    "class EmptyStackError(Exception):\n",
    "    pass\n",
    "\n",
    "class Stack:\n",
    "    \n",
    "    def __init__(self):\n",
    "        self.items = [] # empty list use to store elements of the stack \n",
    "    \n",
    "    def is_empty(self):\n",
    "        return self.items == [] # returns True is stack is empty\n",
    "    \n",
    "    def size(self):\n",
    "        return len(self.items) # returns the number of elements in stack\n",
    "    \n",
    "    def push(self, item):\n",
    "        self.items.append(item) # append adds element at the end of the list\n",
    "    \n",
    "    def pop(self): # pop removes last element from the end of the list\n",
    "        if self.is_empty():\n",
    "            raise EmptyStackError(\"Stack is empty\")\n",
    "        return self.items.pop()\n",
    "    \n",
    "    def peek(self): # returns the last element of the lists\n",
    "        if self.is_empty():\n",
    "            raise EmptyStackError(\"Stack is empty\")\n",
    "        return self.items[-1] \n",
    "    \n",
    "    def display(self):\n",
    "        print(self.items)\n",
    "\n",
    "def is_valid(expr):\n",
    "    st = Stack()\n",
    "    \n",
    "    for ch in expr:\n",
    "        if ch in '({[':\n",
    "            st.push(ch)\n",
    "        if ch in ')}]':\n",
    "            if st.is_empty():\n",
    "                print(\"Right parentheses are more than left parantheses\")\n",
    "                return False\n",
    "            else:\n",
    "                char = st.pop()\n",
    "                if not match_parantheses(char, ch):\n",
    "                    print(\"Mismatched parantheses are \", char, \" and\", ch)\n",
    "                    return False\n",
    "\n",
    "    if st.is_empty():\n",
    "        print(\"Balanced Parantheses\")\n",
    "        return True\n",
    "    else:\n",
    "        print(\"Left paarantheses are more than right parantheses\")\n",
    "        return False\n",
    "    \n",
    "def match_parantheses(leftPar, rightPar):\n",
    "    if leftPar == '[' and rightPar == ']':\n",
    "        return True\n",
    "    if leftPar == '{' and rightPar == '}':\n",
    "        return True\n",
    "    if leftPar == '(' and rightPar == ')':\n",
    "        return True\n",
    "    return False"
   ]
  },
  {
   "cell_type": "code",
   "execution_count": 6,
   "metadata": {},
   "outputs": [
    {
     "name": "stdout",
     "output_type": "stream",
     "text": [
      "Enter an expression with parantheses (q to quit):  (1+2)\n",
      "Balanced Parantheses\n",
      "Valid expression\n",
      "Enter an expression with parantheses (q to quit):  (1-2}\n",
      "Mismatched parantheses are  (  and }\n",
      "Invalid expression\n",
      "Enter an expression with parantheses (q to quit):  (1+2*[3+4]+{3-2})\n",
      "Balanced Parantheses\n",
      "Valid expression\n",
      "Enter an expression with parantheses (q to quit):  1\n",
      "Balanced Parantheses\n",
      "Valid expression\n",
      "Enter an expression with parantheses (q to quit):  q\n"
     ]
    }
   ],
   "source": [
    "while True:\n",
    "    print(\"Enter an expression with parantheses (q to quit): \", end = ' ')\n",
    "    expression = input()\n",
    "    \n",
    "    if expression == 'q':\n",
    "        break\n",
    "        \n",
    "    if is_valid(expression):\n",
    "        print(\"Valid expression\")\n",
    "    else:\n",
    "        print(\"Invalid expression\")"
   ]
  }
 ],
 "metadata": {
  "kernelspec": {
   "display_name": "Python 3",
   "language": "python",
   "name": "python3"
  },
  "language_info": {
   "codemirror_mode": {
    "name": "ipython",
    "version": 3
   },
   "file_extension": ".py",
   "mimetype": "text/x-python",
   "name": "python",
   "nbconvert_exporter": "python",
   "pygments_lexer": "ipython3",
   "version": "3.8.3"
  }
 },
 "nbformat": 4,
 "nbformat_minor": 4
}
