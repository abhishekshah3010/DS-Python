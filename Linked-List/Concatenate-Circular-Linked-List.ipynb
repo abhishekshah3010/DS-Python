{
 "cells": [
  {
   "cell_type": "code",
   "execution_count": 1,
   "metadata": {},
   "outputs": [],
   "source": [
    "class Node(object): \n",
    "    def __init__(self, value):\n",
    "        self.info = value\n",
    "        self.link = None \n",
    "        \n",
    "class CircularLinkedList(object):\n",
    "    def __init__(self):\n",
    "        self.last = None # refers to last node of the list\n",
    "        \n",
    "    def display_list(self):\n",
    "        if self.last == None: # if list is empty\n",
    "            print(\"List is empty\\n\")\n",
    "            return\n",
    "        \n",
    "        p = self.last.link # refer to first node    \n",
    "        while True:\n",
    "            print(p.info, \" \", end='')\n",
    "            p = p.link # moving p forward\n",
    "            if p == self.last.link: # p stops when refers to first node i.e link of last node\n",
    "                break\n",
    "        print()\n",
    "        \n",
    "    def insert_in_empty_list(self, data):\n",
    "        temp = Node(data)\n",
    "        self.last = temp\n",
    "        self.last.link = self.last\n",
    "        \n",
    "    def insert_at_end(self, data):\n",
    "        temp = Node(data)   \n",
    "        temp.link = self.last.link\n",
    "        self.last.link = temp\n",
    "        self.last = temp\n",
    "        \n",
    "    def create_list(self):\n",
    "        n = int(input(\"Enter the number of nodes: \"))\n",
    "        if n == 0:\n",
    "            return\n",
    "        data = int(input(\"Enter the first element to be inserted: \"))\n",
    "        self.insert_in_empty_list(data)\n",
    "        \n",
    "        for i in range(n-1):\n",
    "            data = int(input(\"Enter the next element to be inserted: \"))\n",
    "            self.insert_at_end(data)\n",
    "\n",
    "    def concatenate(self, list2): # will add list 2 sent as argument in list 1\n",
    "        if self.last is None: # if list empty\n",
    "            self.last = list2.last\n",
    "            return\n",
    "        \n",
    "        if list2.last is None: # if second list is empty\n",
    "            return\n",
    "        \n",
    "        # otherwise we add 2nd list at end of 1st list\n",
    "        p = self.last.link\n",
    "        self.last.link = list2.last.link\n",
    "        list2.last.link = p\n",
    "        self.last = list2.last"
   ]
  },
  {
   "cell_type": "code",
   "execution_count": 2,
   "metadata": {},
   "outputs": [
    {
     "name": "stdout",
     "output_type": "stream",
     "text": [
      "First List - \n",
      "Enter the number of nodes: 5\n",
      "Enter the first element to be inserted: 11\n",
      "Enter the next element to be inserted: 44\n",
      "Enter the next element to be inserted: 33\n",
      "Enter the next element to be inserted: 22\n",
      "Enter the next element to be inserted: 88\n",
      "Second List - \n",
      "Enter the number of nodes: 4\n",
      "Enter the first element to be inserted: 99\n",
      "Enter the next element to be inserted: 1\n",
      "Enter the next element to be inserted: 4\n",
      "Enter the next element to be inserted: 3\n",
      "First List - \n",
      "11  44  33  22  88  \n",
      "Second List - \n",
      "99  1  4  3  \n",
      "First List - \n",
      "11  44  33  22  88  99  1  4  3  \n"
     ]
    }
   ],
   "source": [
    "list1 = CircularLinkedList()\n",
    "list2 = CircularLinkedList()\n",
    "\n",
    "print(\"First List - \")\n",
    "list1.create_list()\n",
    "print(\"Second List - \")\n",
    "list2.create_list() \n",
    "\n",
    "print(\"First List - \"); list1.display_list()\n",
    "print(\"Second List - \"); list2.display_list()\n",
    "\n",
    "list1.concatenate(list2)\n",
    "print(\"First List - \"); list1.display_list() "
   ]
  }
 ],
 "metadata": {
  "kernelspec": {
   "display_name": "Python 3",
   "language": "python",
   "name": "python3"
  },
  "language_info": {
   "codemirror_mode": {
    "name": "ipython",
    "version": 3
   },
   "file_extension": ".py",
   "mimetype": "text/x-python",
   "name": "python",
   "nbconvert_exporter": "python",
   "pygments_lexer": "ipython3",
   "version": "3.8.3"
  }
 },
 "nbformat": 4,
 "nbformat_minor": 4
}
