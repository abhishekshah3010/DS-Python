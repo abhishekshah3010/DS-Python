{
 "cells": [
  {
   "cell_type": "code",
   "execution_count": 1,
   "metadata": {},
   "outputs": [],
   "source": [
    "class Node: # represents the node of a Single Linked List\n",
    "    def __init__(self, value):\n",
    "        self.info = value # info attribute represents the actual data that has to be stored in the Linked List\n",
    "        self.link = None  # link attribute refer to the next node\n",
    "        \n",
    "class SingleLinkedList:\n",
    "    def __init__(self):\n",
    "        self.start = None # start attribute refer to the first node of the Linked List\n",
    "        \n",
    "    def display_list(self):\n",
    "        if self.start is None:\n",
    "            print(\"List is empty\")\n",
    "            return\n",
    "        else:\n",
    "            print(\"List is:  \")\n",
    "            p = self.start # initializing p to refer the first node\n",
    "            while p is not None:\n",
    "                print(p.info, \" \", end = '')\n",
    "                p = p.link # to move forward in the list\n",
    "            print()\n",
    "            \n",
    "    def insert_at_end(self, data):\n",
    "        temp = Node(data) # allocate a new temp node\n",
    "        if self.start is None: # if list is empty\n",
    "            self.start = temp # make start refer to temp node\n",
    "            return\n",
    "        #otherwise\n",
    "        # refrencing to the last node\n",
    "        p = self.start\n",
    "        while p.link is not None:\n",
    "            p = p.link\n",
    "        p.link = temp # setting the link of the referenced last node to the temp node\n",
    "        \n",
    "    def create_list(self):\n",
    "        n = int(input(\"Enter the number of nodes: \"))\n",
    "        if n == 0:\n",
    "            return\n",
    "        for i in range(n):\n",
    "            data = int(input(\"Enter element to be inserted: \"))\n",
    "            self.insert_at_end(data)\n",
    "            \n",
    "    def concatenate(self, list2): # will add list 2 sent as argument in list 1\n",
    "        if self.start is None: # if list empty\n",
    "            self.start = list2.start\n",
    "            return\n",
    "        \n",
    "        if list2.start is None: # is second list is empty\n",
    "            return\n",
    "        \n",
    "        # finding ref to last node of first list\n",
    "        p = self.start\n",
    "        while p.link is not None:\n",
    "            p = p.link\n",
    "            \n",
    "        p.link = list2.start"
   ]
  },
  {
   "cell_type": "code",
   "execution_count": 2,
   "metadata": {},
   "outputs": [
    {
     "name": "stdout",
     "output_type": "stream",
     "text": [
      "First List - \n",
      "Enter the number of nodes: 5\n",
      "Enter element to be inserted: 11\n",
      "Enter element to be inserted: 33\n",
      "Enter element to be inserted: 22\n",
      "Enter element to be inserted: 44\n",
      "Enter element to be inserted: 99\n",
      "Second List - \n",
      "Enter the number of nodes: 4\n",
      "Enter element to be inserted: 1\n",
      "Enter element to be inserted: 4\n",
      "Enter element to be inserted: 9\n",
      "Enter element to be inserted: 6\n",
      "First List - \n",
      "List is:  \n",
      "11  33  22  44  99  \n",
      "Second List - \n",
      "List is:  \n",
      "1  4  9  6  \n",
      "First List - \n",
      "List is:  \n",
      "11  33  22  44  99  1  4  9  6  \n"
     ]
    }
   ],
   "source": [
    "list1 = SingleLinkedList()\n",
    "list2 = SingleLinkedList()\n",
    "\n",
    "print(\"First List - \")\n",
    "list1.create_list()\n",
    "print(\"Second List - \")\n",
    "list2.create_list() \n",
    "\n",
    "print(\"First List - \"); list1.display_list()\n",
    "print(\"Second List - \"); list2.display_list()\n",
    "\n",
    "list1.concatenate(list2)\n",
    "print(\"First List - \"); list1.display_list()  "
   ]
  }
 ],
 "metadata": {
  "kernelspec": {
   "display_name": "Python 3",
   "language": "python",
   "name": "python3"
  },
  "language_info": {
   "codemirror_mode": {
    "name": "ipython",
    "version": 3
   },
   "file_extension": ".py",
   "mimetype": "text/x-python",
   "name": "python",
   "nbconvert_exporter": "python",
   "pygments_lexer": "ipython3",
   "version": "3.8.3"
  }
 },
 "nbformat": 4,
 "nbformat_minor": 4
}
