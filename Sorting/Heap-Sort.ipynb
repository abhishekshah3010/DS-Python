{
 "cells": [
  {
   "cell_type": "code",
   "execution_count": 1,
   "metadata": {},
   "outputs": [],
   "source": [
    "def heap_sort(a, n):\n",
    "    build_heap_bottom_up(a, n)\n",
    "    \n",
    "    while n>1:\n",
    "        maxValue = a[1]\n",
    "        a[1] = a[n]\n",
    "        a[n] = maxValue\n",
    "        n = n - 1\n",
    "        restore_down(1, a, n)\n",
    "        \n",
    "def build_heap_bottom_up(a, n):\n",
    "    i = n // 2\n",
    "    while i>=1:\n",
    "        restore_down(i, a, n)\n",
    "        i = i - 1\n",
    "        \n",
    "def restore_down(i, a, n):\n",
    "    k = a[i]\n",
    "    lchild = 2 * i\n",
    "    rchild = lchild + 1\n",
    "    \n",
    "    while rchild <= n:\n",
    "        if k >= a[lchild] and k >= a[rchild]:\n",
    "            a[i] = k\n",
    "            return\n",
    "        elif a[lchild] > a[rchild]:\n",
    "            a[i] = a[lchild]\n",
    "            i = lchild\n",
    "        else:\n",
    "            a[i] = a[rchild]\n",
    "            i = rchild\n",
    "            \n",
    "        lchild = 2 * i\n",
    "        rchild = lchild + 1\n",
    "        \n",
    "    # if number of nodes is even\n",
    "    if lchild == n and k < a[lchild]:\n",
    "        a[i] = a[lchild]\n",
    "        i = lchild\n",
    "    a[i] = k"
   ]
  },
  {
   "cell_type": "code",
   "execution_count": 2,
   "metadata": {},
   "outputs": [
    {
     "name": "stdout",
     "output_type": "stream",
     "text": [
      "Enter the number of elements: 5\n",
      "Enter Element: 21\n",
      "Enter Element: 2\n",
      "Enter Element: 3\n",
      "Enter Element: 16\n",
      "Enter Element: 31\n",
      "2 3 16 21 31 \n"
     ]
    }
   ],
   "source": [
    "n = int(input(\"Enter the number of elements: \"))\n",
    "a = [None]*(n+1)\n",
    "for i in range(1, n+1):\n",
    "    a[i] = int(input(\"Enter Element: \"))\n",
    "    \n",
    "heap_sort(a, n)\n",
    "\n",
    "for i in range(1, n+1):\n",
    "    print(a[i], \"\", end='')\n",
    "print()"
   ]
  }
 ],
 "metadata": {
  "kernelspec": {
   "display_name": "Python 3",
   "language": "python",
   "name": "python3"
  },
  "language_info": {
   "codemirror_mode": {
    "name": "ipython",
    "version": 3
   },
   "file_extension": ".py",
   "mimetype": "text/x-python",
   "name": "python",
   "nbconvert_exporter": "python",
   "pygments_lexer": "ipython3",
   "version": "3.8.3"
  }
 },
 "nbformat": 4,
 "nbformat_minor": 4
}
