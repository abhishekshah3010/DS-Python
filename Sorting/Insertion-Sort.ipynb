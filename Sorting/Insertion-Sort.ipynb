{
 "cells": [
  {
   "cell_type": "code",
   "execution_count": 3,
   "metadata": {},
   "outputs": [],
   "source": [
    "def insertion_sort(a):\n",
    "    for i in range(1, len(a)):\n",
    "        temp = a[i]\n",
    "        j = i - 1\n",
    "        while j>=0 and a[j]>temp:\n",
    "            a[j+1] = a[j]\n",
    "            j = j - 1\n",
    "        a[j+1] = temp"
   ]
  },
  {
   "cell_type": "code",
   "execution_count": 4,
   "metadata": {},
   "outputs": [
    {
     "name": "stdout",
     "output_type": "stream",
     "text": [
      "[1, 3, 5, 6, 8, 9]\n",
      "[2, 3, 5, 8, 9, 11, 23, 39, 45, 166]\n",
      "[1, 2, 3, 4, 5, 6, 7, 8, 9, 10]\n",
      "[1, 2, 3, 4, 5, 6, 7, 8, 9, 10]\n",
      "[6]\n"
     ]
    }
   ],
   "source": [
    "list1 = [6,3,1,5,9,8]\n",
    "insertion_sort(list1)\n",
    "print(list1)\n",
    "\n",
    "list2 = [2,3,5,39,11,8,9,166,45,23]\n",
    "insertion_sort(list2)\n",
    "print(list2)\n",
    "\n",
    "list3 = [1,2,3,4,5,6,7,8,9,10]\n",
    "insertion_sort(list3)\n",
    "print(list3)\n",
    "\n",
    "list4 = [10,9,8,7,6,5,4,3,2,1]\n",
    "insertion_sort(list4)\n",
    "print(list4)\n",
    "\n",
    "list5 = [6]\n",
    "insertion_sort(list5)\n",
    "print(list5)"
   ]
  },
  {
   "cell_type": "code",
   "execution_count": null,
   "metadata": {},
   "outputs": [],
   "source": []
  }
 ],
 "metadata": {
  "kernelspec": {
   "display_name": "Python 3",
   "language": "python",
   "name": "python3"
  },
  "language_info": {
   "codemirror_mode": {
    "name": "ipython",
    "version": 3
   },
   "file_extension": ".py",
   "mimetype": "text/x-python",
   "name": "python",
   "nbconvert_exporter": "python",
   "pygments_lexer": "ipython3",
   "version": "3.8.3"
  }
 },
 "nbformat": 4,
 "nbformat_minor": 4
}
