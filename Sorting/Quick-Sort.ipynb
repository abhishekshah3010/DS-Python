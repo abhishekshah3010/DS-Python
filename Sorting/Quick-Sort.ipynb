{
 "cells": [
  {
   "cell_type": "code",
   "execution_count": 3,
   "metadata": {},
   "outputs": [],
   "source": [
    "def quick_sort(a):\n",
    "    sort(a, 0, len(a)-1)\n",
    "    \n",
    "def sort(a, low, up):\n",
    "    if low >= up: # zero or one element in sublist\n",
    "        return\n",
    "    p = partition(a, low, up)\n",
    "    sort(a, low, p-1) # Sort left sublist\n",
    "    sort(a, p+1, up) # Sort right sublist\n",
    "    \n",
    "def partition(a, low, up):\n",
    "    pivot = a[low]\n",
    "    i = low + 1 # moves from left to right\n",
    "    j = up # moves from right to left\n",
    "    \n",
    "    while i <= j:\n",
    "        while a[i] < pivot and i < up:\n",
    "            i += 1\n",
    "        while a[j] > pivot:\n",
    "            j -= 1\n",
    "            \n",
    "        if i < j: # swap a[i] and a[j]\n",
    "            temp = a[i]\n",
    "            a[i] = a[j]\n",
    "            a[j] = temp\n",
    "            i += 1\n",
    "            j -= 1\n",
    "        else: # found proper place for pivot\n",
    "            break\n",
    "            \n",
    "    # Proper place for pivot is j\n",
    "    a[low] = a[j]\n",
    "    a[j] = pivot\n",
    "    \n",
    "    return j"
   ]
  },
  {
   "cell_type": "code",
   "execution_count": 4,
   "metadata": {},
   "outputs": [
    {
     "name": "stdout",
     "output_type": "stream",
     "text": [
      "[1, 3, 5, 6, 8, 9]\n",
      "[2, 3, 5, 8, 9, 11, 23, 39, 45, 166]\n",
      "[1, 2, 3, 4, 5, 6, 7, 8, 9, 10]\n",
      "[1, 2, 3, 4, 5, 6, 7, 8, 9, 10]\n",
      "[6]\n"
     ]
    }
   ],
   "source": [
    "list1 = [6,3,1,5,9,8]\n",
    "quick_sort(list1)\n",
    "print(list1)\n",
    "\n",
    "list2 = [2,3,5,39,11,8,9,166,45,23]\n",
    "quick_sort(list2)\n",
    "print(list2)\n",
    "\n",
    "list3 = [1,2,3,4,5,6,7,8,9,10]\n",
    "quick_sort(list3)\n",
    "print(list3)\n",
    "\n",
    "list4 = [10,9,8,7,6,5,4,3,2,1]\n",
    "quick_sort(list4)\n",
    "print(list4)\n",
    "\n",
    "list5 = [6]\n",
    "quick_sort(list5)\n",
    "print(list5)"
   ]
  }
 ],
 "metadata": {
  "kernelspec": {
   "display_name": "Python 3",
   "language": "python",
   "name": "python3"
  },
  "language_info": {
   "codemirror_mode": {
    "name": "ipython",
    "version": 3
   },
   "file_extension": ".py",
   "mimetype": "text/x-python",
   "name": "python",
   "nbconvert_exporter": "python",
   "pygments_lexer": "ipython3",
   "version": "3.8.3"
  }
 },
 "nbformat": 4,
 "nbformat_minor": 4
}
