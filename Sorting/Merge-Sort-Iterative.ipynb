{
 "cells": [
  {
   "cell_type": "code",
   "execution_count": 1,
   "metadata": {},
   "outputs": [],
   "source": [
    "def merge_sort(a):\n",
    "    n = len(a)\n",
    "    temp = [None]*n\n",
    "    size = 1 #  initial size of sublist\n",
    "    while size <= n-1: \n",
    "        sort_pass(a, temp, size, n)\n",
    "        size = size * 2\n",
    "        \n",
    "def sort_pass(a, temp, size, n):\n",
    "    low1 = 0 # low and up denotes the lower and upper bounds of the sublist\n",
    "    while low1 + size <= n-1:\n",
    "        up1 = low1 + size - 1\n",
    "        low2 = low1 + size\n",
    "        up2 = low2 + size -1\n",
    "        \n",
    "        # if length of last sublist is less than size\n",
    "        if up2 >= n:\n",
    "            up2 = n - 1\n",
    "            \n",
    "        merge(a, temp, low1, up1, low2, up2)\n",
    "        low1 = up2 + 1 # Take next two sublist for merging\n",
    "        \n",
    "    for i in range(low1, n):\n",
    "        temp[i] = a[i] # if any sublist is left alone\n",
    "        \n",
    "    copy(a, temp, n)\n",
    "    \n",
    "# a[low1]...a[up1] and a[low2]...a[up2] merged to temp[low1]...temp[up2]\n",
    "def merge(a, temp, low1, up1, low2, up2):\n",
    "    i = low1\n",
    "    j = low2\n",
    "    k = low1\n",
    "    \n",
    "    while i <= up1 and j <= up2:\n",
    "        if a[i] <= a[j]:\n",
    "            temp[k] = a[i]\n",
    "            i+=1\n",
    "        else:\n",
    "            temp[k] = a[j]\n",
    "            j+=1\n",
    "        k+=1\n",
    "        \n",
    "    while i <= up1:\n",
    "        temp[k] = a[i]\n",
    "        i+=1\n",
    "        k+=1\n",
    "    \n",
    "    while j <= up2:\n",
    "        temp[k] = a[j]\n",
    "        j+=1\n",
    "        k+=1\n",
    "        \n",
    "# copies temp[low]...temp[up] to a[low]...a[up]\n",
    "def copy(a, temp, n):\n",
    "    for i in range(n):\n",
    "        a[i] = temp[i]"
   ]
  },
  {
   "cell_type": "code",
   "execution_count": 2,
   "metadata": {},
   "outputs": [
    {
     "name": "stdout",
     "output_type": "stream",
     "text": [
      "[1, 3, 5, 6, 8, 9]\n",
      "[2, 3, 5, 8, 9, 11, 23, 39, 45, 166]\n",
      "[1, 2, 3, 4, 5, 6, 7, 8, 9, 10]\n",
      "[1, 2, 3, 4, 5, 6, 7, 8, 9, 10]\n",
      "[6]\n"
     ]
    }
   ],
   "source": [
    "list1 = [6,3,1,5,9,8]\n",
    "merge_sort(list1)\n",
    "print(list1)\n",
    "\n",
    "list2 = [2,3,5,39,11,8,9,166,45,23]\n",
    "merge_sort(list2)\n",
    "print(list2)\n",
    "\n",
    "list3 = [1,2,3,4,5,6,7,8,9,10]\n",
    "merge_sort(list3)\n",
    "print(list3)\n",
    "\n",
    "list4 = [10,9,8,7,6,5,4,3,2,1]\n",
    "merge_sort(list4)\n",
    "print(list4)\n",
    "\n",
    "list5 = [6]\n",
    "merge_sort(list5)\n",
    "print(list5)"
   ]
  },
  {
   "cell_type": "code",
   "execution_count": null,
   "metadata": {},
   "outputs": [],
   "source": []
  }
 ],
 "metadata": {
  "kernelspec": {
   "display_name": "Python 3",
   "language": "python",
   "name": "python3"
  },
  "language_info": {
   "codemirror_mode": {
    "name": "ipython",
    "version": 3
   },
   "file_extension": ".py",
   "mimetype": "text/x-python",
   "name": "python",
   "nbconvert_exporter": "python",
   "pygments_lexer": "ipython3",
   "version": "3.8.3"
  }
 },
 "nbformat": 4,
 "nbformat_minor": 4
}
