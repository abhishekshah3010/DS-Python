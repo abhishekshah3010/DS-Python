{
 "cells": [
  {
   "cell_type": "code",
   "execution_count": 1,
   "metadata": {},
   "outputs": [],
   "source": [
    "def merge(a1, a2, temp):\n",
    "    i = 0\n",
    "    j = 0\n",
    "    k = 0\n",
    "    n1 = len(a1)\n",
    "    n2 = len(a2)\n",
    "    \n",
    "    while i <= n1-1 and j <= n2 - 1:\n",
    "        if a1[i] < a2[j]:\n",
    "            temp[k] = a1[i]\n",
    "            i+=1\n",
    "        else:\n",
    "            temp[k] = a2[j]\n",
    "            j+=1\n",
    "        k+=1\n",
    "        \n",
    "    # copy remaining elements of a1, list a2 finished\n",
    "    while i <= n1-1:\n",
    "        temp[k] = a1[i]\n",
    "        i+=1\n",
    "        k+=1\n",
    "    \n",
    "    # copy remaining elements of a2, list a1 finished\n",
    "    while j <= n2 - 1:\n",
    "        temp[k] = a2[j]\n",
    "        j += 1\n",
    "        k += 1"
   ]
  },
  {
   "cell_type": "code",
   "execution_count": 2,
   "metadata": {},
   "outputs": [
    {
     "name": "stdout",
     "output_type": "stream",
     "text": [
      "Enter the number of elements in list a1: 5\n",
      "Enter elements in sorted order\n",
      "Enter element: 9\n",
      "Enter element: 11\n",
      "Enter element: 15\n",
      "Enter element: 31\n",
      "Enter element: 39\n",
      "Enter the number of elements in list a2: 8\n",
      "Enter elements in sorted order\n",
      "Enter element: 2\n",
      "Enter element: 10\n",
      "Enter element: 17\n",
      "Enter element: 29\n",
      "Enter element: 40\n",
      "Enter element: 45\n",
      "Enter element: 67\n",
      "Enter element: 79\n",
      "Merged List is: \n",
      "[2, 9, 10, 11, 15, 17, 29, 31, 39, 40, 45, 67, 79]\n"
     ]
    }
   ],
   "source": [
    "n1 = int(input(\"Enter the number of elements in list a1: \"))\n",
    "print(\"Enter elements in sorted order\")\n",
    "a1 = [None]*n1\n",
    "for i in range(n1):\n",
    "    a1[i] = int(input(\"Enter element: \"))\n",
    "    \n",
    "n2 = int(input(\"Enter the number of elements in list a2: \"))\n",
    "print(\"Enter elements in sorted order\")\n",
    "a2 = [None]*n2\n",
    "for i in range(n2):\n",
    "    a2[i] = int(input(\"Enter element: \"))\n",
    "    \n",
    "temp = [None] * (n1+n2)\n",
    "merge(a1, a2, temp)\n",
    "print(\"Merged List is: \")\n",
    "print(temp)"
   ]
  },
  {
   "cell_type": "code",
   "execution_count": null,
   "metadata": {},
   "outputs": [],
   "source": []
  }
 ],
 "metadata": {
  "kernelspec": {
   "display_name": "Python 3",
   "language": "python",
   "name": "python3"
  },
  "language_info": {
   "codemirror_mode": {
    "name": "ipython",
    "version": 3
   },
   "file_extension": ".py",
   "mimetype": "text/x-python",
   "name": "python",
   "nbconvert_exporter": "python",
   "pygments_lexer": "ipython3",
   "version": "3.8.3"
  }
 },
 "nbformat": 4,
 "nbformat_minor": 4
}
