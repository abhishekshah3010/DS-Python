{
 "cells": [
  {
   "cell_type": "code",
   "execution_count": 1,
   "metadata": {},
   "outputs": [],
   "source": [
    "def shell_sort(a):\n",
    "    h = int(input(\"Enter maximum increment(odd value): \")) \n",
    "    # odd for h to become 1 because we are decrementing by 2\n",
    "    while h>=1:\n",
    "        for i in range(h, len(a)):\n",
    "            temp = a[i]\n",
    "            j  = i - h\n",
    "            while j >= 0 and a[j] > temp:\n",
    "                a[j+h] = a[j]\n",
    "                j = j - h\n",
    "            a[j+h] = temp\n",
    "        h = h - 2"
   ]
  },
  {
   "cell_type": "code",
   "execution_count": 2,
   "metadata": {},
   "outputs": [
    {
     "name": "stdout",
     "output_type": "stream",
     "text": [
      "Enter maximum increment(odd value): 5\n",
      "[1, 2, 3, 5, 5, 6, 7, 8, 9, 12, 15, 19, 21, 23, 34, 35, 65, 73, 90, 239]\n"
     ]
    }
   ],
   "source": [
    "list1 = [65,73,21,90,6,239,3,35,1,15,5,9,8,23,12,5,7,2,19,34]\n",
    "shell_sort(list1)\n",
    "print(list1)"
   ]
  },
  {
   "cell_type": "code",
   "execution_count": null,
   "metadata": {},
   "outputs": [],
   "source": []
  }
 ],
 "metadata": {
  "kernelspec": {
   "display_name": "Python 3",
   "language": "python",
   "name": "python3"
  },
  "language_info": {
   "codemirror_mode": {
    "name": "ipython",
    "version": 3
   },
   "file_extension": ".py",
   "mimetype": "text/x-python",
   "name": "python",
   "nbconvert_exporter": "python",
   "pygments_lexer": "ipython3",
   "version": "3.8.3"
  }
 },
 "nbformat": 4,
 "nbformat_minor": 4
}
