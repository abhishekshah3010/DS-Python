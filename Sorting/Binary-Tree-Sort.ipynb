{
 "cells": [
  {
   "cell_type": "code",
   "execution_count": 3,
   "metadata": {},
   "outputs": [],
   "source": [
    "class Node: # node of a Binary Tree\n",
    "    def __init__(self, value):\n",
    "        self.info = value\n",
    "        self.lchild = None\n",
    "        self.rchild = None\n",
    "        \n",
    "class BinarySearchTree:\n",
    "    def __init__(self):\n",
    "        self.root = None\n",
    "        \n",
    "    def is_empty(self):\n",
    "        return self.root == None\n",
    "    \n",
    "    def insert(self, x):\n",
    "        self.root = self._insert(self.root, x)\n",
    "    \n",
    "    def _insert(self, p, x):\n",
    "        if p is None:\n",
    "            p = Node(x)\n",
    "        elif x < p.info:\n",
    "            p.lchild = self._insert(p.lchild, x)\n",
    "        else:\n",
    "            p.rchild = self._insert(p.rchild, x)\n",
    "        return p\n",
    "    \n",
    "    def inorder(self):\n",
    "        self._inorder(self.root)\n",
    "        print()\n",
    "        \n",
    "    def _inorder(self, p):\n",
    "        if p is None:\n",
    "            return\n",
    "        self._inorder(p.lchild)\n",
    "        print(p.info, \" \")\n",
    "        self._inorder(p.rchild)"
   ]
  },
  {
   "cell_type": "code",
   "execution_count": 4,
   "metadata": {},
   "outputs": [
    {
     "name": "stdout",
     "output_type": "stream",
     "text": [
      "Enter the number of elements to be sorted: 6\n",
      "Enter element: 5\n",
      "Enter element: 4\n",
      "Enter element: 8\n",
      "Enter element: 1\n",
      "Enter element: 9\n",
      "Enter element: 3\n",
      "1  \n",
      "3  \n",
      "4  \n",
      "5  \n",
      "8  \n",
      "9  \n",
      "\n"
     ]
    }
   ],
   "source": [
    "n = int(input(\"Enter the number of elements to be sorted: \"))\n",
    "tree = BinarySearchTree()\n",
    "for i in range(n):\n",
    "    x = int(input(\"Enter element: \"))\n",
    "    tree.insert(x)\n",
    "    \n",
    "tree.inorder()"
   ]
  }
 ],
 "metadata": {
  "kernelspec": {
   "display_name": "Python 3",
   "language": "python",
   "name": "python3"
  },
  "language_info": {
   "codemirror_mode": {
    "name": "ipython",
    "version": 3
   },
   "file_extension": ".py",
   "mimetype": "text/x-python",
   "name": "python",
   "nbconvert_exporter": "python",
   "pygments_lexer": "ipython3",
   "version": "3.8.3"
  }
 },
 "nbformat": 4,
 "nbformat_minor": 4
}
